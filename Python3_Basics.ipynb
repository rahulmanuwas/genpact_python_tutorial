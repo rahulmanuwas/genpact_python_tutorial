{
 "cells": [
  {
   "cell_type": "markdown",
   "metadata": {},
   "source": [
    "Python is a general-purpose *interpreted*, *interactive*, *object-oriented*, and *high-level* programming language. It was created by __Guido van Rossum__ during 1985-1990. Like *Perl*, *Python* source code is also available under the GNU General Public License (*GPL*). *Python* is named after a TV Show called ‘__Monty Python’s Flying Circus__’ and __not__ after _Python-the snake_.__Python 3.0__ was released in 2008. Although this version is supposed to be __backward incompatible__, later on many of its important features have been __backported__ to be compatible with version __2.7__ \n",
    "This tutorial is targeted at an audience which has little to no programming experience. We will be using [Anaconda](https://www.continuum.io/) - an open source Data Science platform powered by Python.  \n",
    "\n",
    "\n",
    "Credits to the tutorial goes to:\n",
    "* [tutorialspoint](https://www.tutorialspoint.com/python3/)\n",
    "* [Frank Kane](https://www.udemy.com/user/frankkane/), especially [this class](https://www.udemy.com/data-science-and-machine-learning-with-python-hands-on/)\n",
    "* [Python 3 Essential Training](https://www.lynda.com/Python-3-tutorials/essential-training/62226-2.html) by [Bill Weinman](https://www.lynda.com/Bill-Weinman/23-1.html)\n",
    "* [Learn X in Y minutes](https://learnxinyminutes.com/docs/python3/)\n",
    "* [Kevin Markham](https://www.linkedin.com/in/justmarkham)\n",
    "* [Kevin Markham](https://www.linkedin.com/in/justmarkham)\n",
    "\n",
    "Markdown Cheatsheet can be found [here](https://github.com/rahulmanuwas/markdown-here)\n",
    "\n",
    "Presenter [Rahul Yadav](https://in.linkedin.com/in/rahulmanuwas)\n",
    "** Important: Codes have # Copyright (c) 2010 The BearHeart Group, LLC"
   ]
  },
  {
   "cell_type": "raw",
   "metadata": {},
   "source": [
    "# Single line comment starts with hashtag or pound -\"#\"\n",
    "\n",
    "\"\"\" Multiline strings can be written\n",
    "    using three \"s, and are often used\n",
    "    as comments\n",
    "\"\"\""
   ]
  },
  {
   "cell_type": "markdown",
   "metadata": {},
   "source": [
    "### Hello World! in Python"
   ]
  },
  {
   "cell_type": "code",
   "execution_count": null,
   "metadata": {
    "collapsed": false
   },
   "outputs": [],
   "source": [
    "#!/usr/bin/python3\n",
    "\n",
    "print (\"Hello, Python!\")\n",
    "# Shebang line or hash-bang"
   ]
  },
  {
   "cell_type": "markdown",
   "metadata": {},
   "source": [
    "### Conditionals"
   ]
  },
  {
   "cell_type": "code",
   "execution_count": null,
   "metadata": {
    "collapsed": false
   },
   "outputs": [],
   "source": [
    "a, b = 0, 1\n",
    "if a < b:\n",
    "    print('a ({}) is less than b ({})'.format(a, b))\n",
    "else:\n",
    "    print('a ({}) is not less than b ({})'.format(a, b))"
   ]
  },
  {
   "cell_type": "markdown",
   "metadata": {},
   "source": [
    "### Repeating code with a loop"
   ]
  },
  {
   "cell_type": "code",
   "execution_count": null,
   "metadata": {
    "collapsed": false
   },
   "outputs": [],
   "source": [
    "# read the lines from the file\n",
    "fh = open('lines.txt')\n",
    "for line in fh.readlines():\n",
    "    print(line) #.replace(\"\\n\",\"\")"
   ]
  },
  {
   "cell_type": "markdown",
   "metadata": {},
   "source": [
    "### Reusing the code with a function"
   ]
  },
  {
   "cell_type": "code",
   "execution_count": null,
   "metadata": {
    "collapsed": false
   },
   "outputs": [],
   "source": [
    "def isprime(n):\n",
    "    if n == 1:\n",
    "        print(\"1 is special\")\n",
    "        return False\n",
    "    for x in range(2, n):\n",
    "        if n % x == 0:\n",
    "            print(\"{} equals {} x {}\".format(n, x, n // x))\n",
    "            return False\n",
    "    else:\n",
    "        print(n, \"is a prime number\")\n",
    "        return True\n",
    "\n",
    "for n in range(1, 25):\n",
    "    isprime(n)"
   ]
  },
  {
   "cell_type": "markdown",
   "metadata": {},
   "source": [
    "### Creating sequences with generator functions"
   ]
  },
  {
   "cell_type": "code",
   "execution_count": null,
   "metadata": {
    "collapsed": false
   },
   "outputs": [],
   "source": [
    "def isprime(n):\n",
    "    if n == 1:\n",
    "        return False\n",
    "    for x in range(2, n):\n",
    "        if n % x == 0:\n",
    "            return False\n",
    "    else:\n",
    "        return True\n",
    "\n",
    "def primes(n = 1):\n",
    "   while(True):\n",
    "       if isprime(n): yield n\n",
    "       n += 1 \n",
    "\n",
    "for n in primes():\n",
    "    if n > 100: break\n",
    "    print(n)"
   ]
  },
  {
   "cell_type": "markdown",
   "metadata": {},
   "source": [
    "### Reusing code and data with a class"
   ]
  },
  {
   "cell_type": "code",
   "execution_count": null,
   "metadata": {
    "collapsed": false
   },
   "outputs": [],
   "source": [
    "# simple fibonacci series -- the sum of two elements defines the next set\n",
    "class Fibonacci():\n",
    "    def __init__(self, a, b):\n",
    "        self.a = a\n",
    "        self.b = b\n",
    "\n",
    "    def series(self):\n",
    "        while(True):\n",
    "            yield(self.b)\n",
    "            self.a, self.b = self.b, self.a + self.b\n",
    "\n",
    "f = Fibonacci(0, 1)\n",
    "for r in f.series():\n",
    "    if r > 100: break    \n",
    "    print(r, end=' ')"
   ]
  },
  {
   "cell_type": "markdown",
   "metadata": {},
   "source": [
    "### Handling errors with exceptions"
   ]
  },
  {
   "cell_type": "code",
   "execution_count": null,
   "metadata": {
    "collapsed": false
   },
   "outputs": [],
   "source": [
    "fh = open('xlines.txt')\n",
    "for line in fh.readlines():\n",
    "    print(line)"
   ]
  },
  {
   "cell_type": "code",
   "execution_count": null,
   "metadata": {
    "collapsed": false
   },
   "outputs": [],
   "source": [
    "try:\n",
    "    fh = open('xlines.txt')\n",
    "    for line in fh.readlines():\n",
    "        print(line)\n",
    "except IOError as e:\n",
    "    print (\"Errors occured:\", e)\n",
    "    \n",
    "print (\"After Error\")"
   ]
  }
 ],
 "metadata": {
  "kernelspec": {
   "display_name": "Python 3",
   "language": "python",
   "name": "python3"
  },
  "language_info": {
   "codemirror_mode": {
    "name": "ipython",
    "version": 3
   },
   "file_extension": ".py",
   "mimetype": "text/x-python",
   "name": "python",
   "nbconvert_exporter": "python",
   "pygments_lexer": "ipython3",
   "version": "3.6.0"
  }
 },
 "nbformat": 4,
 "nbformat_minor": 2
}
